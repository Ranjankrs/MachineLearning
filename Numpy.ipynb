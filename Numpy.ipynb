{
 "cells": [
  {
   "cell_type": "code",
   "execution_count": 1,
   "id": "0e8c71ab-31a0-4ccf-8dd3-d2ea062d18c7",
   "metadata": {},
   "outputs": [
    {
     "name": "stdout",
     "output_type": "stream",
     "text": [
      "[2 4 6 8]\n"
     ]
    }
   ],
   "source": [
    "import numpy as np # import numpy package\n",
    "arr_1D = np.array([2,4,6,8]) # create  NumPy 1D array which contain int value 2,4,6,8\n",
    "print(arr_1D) # print arr_1D"
   ]
  },
  {
   "cell_type": "code",
   "execution_count": 9,
   "id": "383326ed-0ee2-449a-ab70-b4bf066bc2d2",
   "metadata": {},
   "outputs": [
    {
     "name": "stdout",
     "output_type": "stream",
     "text": [
      "[[0 1 1]\n",
      " [1 0 1]\n",
      " [1 1 0]]\n"
     ]
    }
   ],
   "source": [
    "arr_2D = np.array([[0, 1, 1], [1, 0, 1], [1, 1, 0]]) # Create Numpy 2D array which contain inter type valye\n",
    "print(arr_2D) # print arr_1D"
   ]
  },
  {
   "cell_type": "code",
   "execution_count": 10,
   "id": "5f9dfa6f-fcb8-465e-b5a8-98729ef880f2",
   "metadata": {},
   "outputs": [
    {
     "name": "stdout",
     "output_type": "stream",
     "text": [
      "[[[0 1 1]\n",
      "  [1 0 1]\n",
      "  [1 1 0]]]\n"
     ]
    }
   ],
   "source": [
    "arr_3D = np.array([[[0, 1, 1], [1, 0, 1], [1, 1, 0]]]) # create numpy 3D array which contain integer values\n",
    "print(arr_3D)"
   ]
  },
  {
   "cell_type": "code",
   "execution_count": 11,
   "id": "0141139f-0063-48dd-ba31-9ac8ac8b6ac6",
   "metadata": {},
   "outputs": [
    {
     "name": "stdout",
     "output_type": "stream",
     "text": [
      "[['id' 'name' 'percentage' 'pass or fail']\n",
      " ['101' 'Narendra' '80' 'pass']\n",
      " ['102' 'John' '75' 'pass']\n",
      " ['103' 'Abraham' '33' 'fail']\n",
      " ['104' 'Oprah' '52' 'pass']]\n"
     ]
    }
   ],
   "source": [
    "# store student information in NumPy 2D array\n",
    "student_info = np.array([['id', 'name', 'percentage', 'pass or fail'], \n",
    "                         [101, 'Narendra', 80, 'pass'], \n",
    "                         [102, 'John', 75, 'pass'],\n",
    "                         [103, 'Abraham',33, 'fail'],\n",
    "                         [104, 'Oprah',52, 'pass']\n",
    "                        ])\n",
    "print(student_info)"
   ]
  },
  {
   "cell_type": "code",
   "execution_count": 12,
   "id": "5af9d0c3-2e59-4abe-8f32-b3f115d0f9aa",
   "metadata": {},
   "outputs": [
    {
     "name": "stdout",
     "output_type": "stream",
     "text": [
      "[80. 75. 33. 52.]\n"
     ]
    }
   ],
   "source": [
    "percentage = np.array([80, 75, 33, 52], dtype = float) # set data type as float\n",
    "print(percentage) "
   ]
  },
  {
   "cell_type": "code",
   "execution_count": 13,
   "id": "aeddea61-3d12-49d8-a2bd-27189b9cc7ad",
   "metadata": {},
   "outputs": [
    {
     "name": "stdout",
     "output_type": "stream",
     "text": [
      "2D array : \n",
      " [[0 1 1]\n",
      " [1 0 1]\n",
      " [1 1 0]]\n",
      "Size of arr_2D =  9\n"
     ]
    }
   ],
   "source": [
    "arr_2D = np.array([[0, 1, 1], [1, 0, 1], [1, 1, 0]]) # create NumPy 2D array\n",
    "print(\"2D array : \\n\", arr_2D) # print array\n",
    " \n",
    "array_size = np.size(arr_2D) # find the size of arr-2D\n",
    " \n",
    "print('Size of arr_2D = ', array_size) # print size of array"
   ]
  },
  {
   "cell_type": "code",
   "execution_count": 15,
   "id": "32df87ec-0702-4c8a-bf70-5bc47a8203cc",
   "metadata": {},
   "outputs": [],
   "source": [
    "#If you want to count how many items in a row or a column of NumPy array. Then give the axis argument as 0 or 1."
   ]
  },
  {
   "cell_type": "code",
   "execution_count": 14,
   "id": "0abebd3a-56cf-4e0e-8d73-5d0bf7254f03",
   "metadata": {},
   "outputs": [
    {
     "name": "stdout",
     "output_type": "stream",
     "text": [
      "No. of items in a column =  3\n",
      "No. of items in a row =  3\n"
     ]
    }
   ],
   "source": [
    "items_in_col = np.size(arr_2D, axis = 0) # give columns \n",
    "print(\"No. of items in a column = \", items_in_col )\n",
    " \n",
    "items_in_row = np.size(arr_2D, axis = 1)\n",
    "print(\"No. of items in a row = \", items_in_row )"
   ]
  },
  {
   "cell_type": "markdown",
   "id": "45681c2c-4fa2-4392-a9b1-0e3e0a2c0725",
   "metadata": {},
   "source": [
    "**1-D SHAPE OF NUMPY**"
   ]
  },
  {
   "cell_type": "code",
   "execution_count": 16,
   "id": "0753da94-4666-4119-9128-b612d96d840e",
   "metadata": {},
   "outputs": [
    {
     "name": "stdout",
     "output_type": "stream",
     "text": [
      "One dimentional NumPy array : \n",
      " [1 2 3]\n",
      "Shape of arr_1D =  (3,)\n"
     ]
    }
   ],
   "source": [
    "arr_1D = np.array([1, 2, 3]) # create 1D array\n",
    "print(\"One dimentional NumPy array : \\n\", arr_1D) # print arr_1D\n",
    " \n",
    "shape_of_arr_1D = np.shape(arr_1D) # find shape of NumPy Array arr_1D\n",
    "print(\"Shape of arr_1D = \", shape_of_arr_1D) # print shape_of_arr_1D"
   ]
  },
  {
   "cell_type": "code",
   "execution_count": 27,
   "id": "c2ae7ab2-b967-46e2-b912-c9fa97f86c0b",
   "metadata": {},
   "outputs": [
    {
     "name": "stdout",
     "output_type": "stream",
     "text": [
      "Two array : \n",
      " [[1 2 3]\n",
      " [1 2 3]\n",
      " [1 2 3]]\n",
      "Shape of arr_2D =  (3, 3)\n"
     ]
    }
   ],
   "source": [
    "arr_2D = np.array([[1, 2, 3], [1, 2, 3], [1, 2, 3]]) # create 2D array\n",
    "print(\"Two array : \\n\", arr_2D) # print arr_2D\n",
    " \n",
    "shape_of_arr_2D = np.shape(arr_2D) # find shape of NumPy array arr_2D\n",
    "print(\"Shape of arr_2D = \", shape_of_arr_2D) # print shape_of_arr_2D\n",
    "#OUTPUT-The np.shape() gives a return of two-dimensional array in a  pair of rows and columns tuple (rows, columns)."
   ]
  },
  {
   "cell_type": "code",
   "execution_count": 26,
   "id": "dedcf3d1-b7d4-4d56-8084-61f94f51b204",
   "metadata": {},
   "outputs": [
    {
     "name": "stdout",
     "output_type": "stream",
     "text": [
      "Three dimensional NumPy Array : \n",
      " [[[1 2 3]\n",
      "  [1 2 3]\n",
      "  [1 2 3]]\n",
      "\n",
      " [[1 2 3]\n",
      "  [1 2 3]\n",
      "  [1 2 3]]\n",
      "\n",
      " [[1 2 3]\n",
      "  [1 2 3]\n",
      "  [1 2 3]]]\n",
      "Shape of arr_3D =  (3, 3, 3)\n"
     ]
    }
   ],
   "source": [
    "arr_3D = np.array([[[1, 2, 3], [1, 2, 3], [1, 2, 3]], [[1, 2, 3], [1, 2, 3], [1, 2, 3]], [[1, 2, 3], [1, 2, 3], [1, 2, 3]]]) # create 3D array\n",
    "print(\"Three dimensional NumPy Array : \\n\", arr_3D)\n",
    " \n",
    "shape_of_arr_3D = np.shape(arr_3D) # find shape of NumPy array arr_3D\n",
    "print(\"Shape of arr_3D = \", shape_of_arr_3D) # print shape_of_arr_3D\n",
    "#OUTPUT-The np.shape() gives a return of three-dimensional array in a  tuple (no. of 2D arrays, rows, columns)."
   ]
  },
  {
   "cell_type": "markdown",
   "id": "4ed43dce-5986-4da9-9039-097a3b00988f",
   "metadata": {},
   "source": [
    "**MATHEMATICAL FUNCTION USED IN NUMPY**"
   ]
  },
  {
   "cell_type": "code",
   "execution_count": 28,
   "id": "7682f512-14be-48e3-9a93-7b0a601afd3a",
   "metadata": {},
   "outputs": [
    {
     "name": "stdout",
     "output_type": "stream",
     "text": [
      "[[1 2 3]\n",
      " [4 5 6]\n",
      " [7 8 9]]\n",
      "[[1 2 3]\n",
      " [4 5 6]\n",
      " [7 8 9]]\n"
     ]
    }
   ],
   "source": [
    "#Creating two arrays using np.arange() function and reshape it in 2D using np.reshape() function.\n",
    "arr1 = np.arange(1,10).reshape(3,3)\n",
    "arr2 = np.arange(1,10).reshape(3,3)\n",
    " \n",
    "# print arr1 and arr2\n",
    "print(arr1)\n",
    "print(arr2)"
   ]
  },
  {
   "cell_type": "markdown",
   "id": "2b4db1a4-50cb-4869-8e40-3c50333d1977",
   "metadata": {},
   "source": [
    "**Addition of Two Numpy Array**"
   ]
  },
  {
   "cell_type": "code",
   "execution_count": 30,
   "id": "9fe159af-a155-45c4-8134-dc29cbd1a4da",
   "metadata": {},
   "outputs": [
    {
     "data": {
      "text/plain": [
       "array([[ 2,  4,  6],\n",
       "       [ 8, 10, 12],\n",
       "       [14, 16, 18]])"
      ]
     },
     "execution_count": 30,
     "metadata": {},
     "output_type": "execute_result"
    }
   ],
   "source": [
    "arr1 + arr2"
   ]
  },
  {
   "cell_type": "code",
   "execution_count": 31,
   "id": "76518e91-831a-4f51-a738-f1b06ca62fe0",
   "metadata": {},
   "outputs": [
    {
     "data": {
      "text/plain": [
       "array([[ 2,  4,  6],\n",
       "       [ 8, 10, 12],\n",
       "       [14, 16, 18]])"
      ]
     },
     "execution_count": 31,
     "metadata": {},
     "output_type": "execute_result"
    }
   ],
   "source": [
    "np.add(arr1, arr2)"
   ]
  },
  {
   "cell_type": "markdown",
   "id": "d9a4911c-649d-490a-a15f-8136185be1be",
   "metadata": {},
   "source": [
    "**Subtraction of Two NumPy Array**"
   ]
  },
  {
   "cell_type": "code",
   "execution_count": 32,
   "id": "6733c6ff-c52d-442e-bec5-83fd8c6ac1b4",
   "metadata": {},
   "outputs": [
    {
     "data": {
      "text/plain": [
       "array([[0, 0, 0],\n",
       "       [0, 0, 0],\n",
       "       [0, 0, 0]])"
      ]
     },
     "execution_count": 32,
     "metadata": {},
     "output_type": "execute_result"
    }
   ],
   "source": [
    "arr1 - arr2"
   ]
  },
  {
   "cell_type": "code",
   "execution_count": 33,
   "id": "1ca770f9-2083-4a71-b8d2-bbc8168ab470",
   "metadata": {},
   "outputs": [
    {
     "data": {
      "text/plain": [
       "array([[0, 0, 0],\n",
       "       [0, 0, 0],\n",
       "       [0, 0, 0]])"
      ]
     },
     "execution_count": 33,
     "metadata": {},
     "output_type": "execute_result"
    }
   ],
   "source": [
    "np.subtract(arr1, arr2)"
   ]
  },
  {
   "cell_type": "markdown",
   "id": "eacc085e-e3a9-4678-b41f-02af7ce38c9b",
   "metadata": {},
   "source": [
    "**Division of Two NumPy Array**"
   ]
  },
  {
   "cell_type": "code",
   "execution_count": 35,
   "id": "a5bab06f-0ceb-4064-9676-d25ddf607bb4",
   "metadata": {},
   "outputs": [
    {
     "data": {
      "text/plain": [
       "array([[1., 1., 1.],\n",
       "       [1., 1., 1.],\n",
       "       [1., 1., 1.]])"
      ]
     },
     "execution_count": 35,
     "metadata": {},
     "output_type": "execute_result"
    }
   ],
   "source": [
    "arr1/arr2"
   ]
  },
  {
   "cell_type": "code",
   "execution_count": 36,
   "id": "6b94b3cc-6486-471e-a28d-6ea0ea8ba524",
   "metadata": {},
   "outputs": [
    {
     "data": {
      "text/plain": [
       "array([[1., 1., 1.],\n",
       "       [1., 1., 1.],\n",
       "       [1., 1., 1.]])"
      ]
     },
     "execution_count": 36,
     "metadata": {},
     "output_type": "execute_result"
    }
   ],
   "source": [
    "np.divide(arr1, arr2)"
   ]
  },
  {
   "cell_type": "markdown",
   "id": "4f111467-518c-4ca4-bd6a-6c3468fa5e2c",
   "metadata": {},
   "source": [
    "**Multiplication of Two NumPy Array**"
   ]
  },
  {
   "cell_type": "code",
   "execution_count": 37,
   "id": "21b87ca9-7d0d-4c54-b463-f16244880df9",
   "metadata": {},
   "outputs": [
    {
     "data": {
      "text/plain": [
       "array([[ 1,  4,  9],\n",
       "       [16, 25, 36],\n",
       "       [49, 64, 81]])"
      ]
     },
     "execution_count": 37,
     "metadata": {},
     "output_type": "execute_result"
    }
   ],
   "source": [
    "arr1*arr2"
   ]
  },
  {
   "cell_type": "code",
   "execution_count": 38,
   "id": "b33cfbde-f6a2-4b51-96d0-abe47a9f46a4",
   "metadata": {},
   "outputs": [
    {
     "data": {
      "text/plain": [
       "array([[ 1,  4,  9],\n",
       "       [16, 25, 36],\n",
       "       [49, 64, 81]])"
      ]
     },
     "execution_count": 38,
     "metadata": {},
     "output_type": "execute_result"
    }
   ],
   "source": [
    "np.multiply(arr1, arr2)"
   ]
  },
  {
   "cell_type": "markdown",
   "id": "c931f8e7-1d64-447b-b7b1-c2637b8763b1",
   "metadata": {},
   "source": [
    "**Matrix Product of Two NumPy Array (matrix)**"
   ]
  },
  {
   "cell_type": "code",
   "execution_count": 40,
   "id": "2097a7fe-f95d-4cef-b056-5623fb4f35f7",
   "metadata": {},
   "outputs": [
    {
     "data": {
      "text/plain": [
       "array([[ 30,  36,  42],\n",
       "       [ 66,  81,  96],\n",
       "       [102, 126, 150]])"
      ]
     },
     "execution_count": 40,
     "metadata": {},
     "output_type": "execute_result"
    }
   ],
   "source": [
    "arr1@arr2"
   ]
  },
  {
   "cell_type": "code",
   "execution_count": 42,
   "id": "5bee118d-b159-456c-bfae-1b9f97675dbc",
   "metadata": {},
   "outputs": [
    {
     "data": {
      "text/plain": [
       "array([[ 30,  36,  42],\n",
       "       [ 66,  81,  96],\n",
       "       [102, 126, 150]])"
      ]
     },
     "execution_count": 42,
     "metadata": {},
     "output_type": "execute_result"
    }
   ],
   "source": [
    "arr1.dot(arr2)"
   ]
  },
  {
   "cell_type": "markdown",
   "id": "0edfa23e-4f67-422f-811c-4487ca0d41a9",
   "metadata": {},
   "source": [
    "**NumPy Mathematical Built-in functions**"
   ]
  },
  {
   "cell_type": "code",
   "execution_count": 43,
   "id": "447b88cd-4a8e-4c8f-b7cb-2944b469e0b3",
   "metadata": {},
   "outputs": [
    {
     "data": {
      "text/plain": [
       "1"
      ]
     },
     "execution_count": 43,
     "metadata": {},
     "output_type": "execute_result"
    }
   ],
   "source": [
    "arr1.min()"
   ]
  },
  {
   "cell_type": "code",
   "execution_count": 44,
   "id": "ba0586af-e70d-456f-8965-df34b2fba4d4",
   "metadata": {},
   "outputs": [
    {
     "data": {
      "text/plain": [
       "9"
      ]
     },
     "execution_count": 44,
     "metadata": {},
     "output_type": "execute_result"
    }
   ],
   "source": [
    "arr2.max()"
   ]
  },
  {
   "cell_type": "code",
   "execution_count": 45,
   "id": "65d92d5e-dbaf-42ef-9d3f-2af82fe9787b",
   "metadata": {},
   "outputs": [
    {
     "data": {
      "text/plain": [
       "8"
      ]
     },
     "execution_count": 45,
     "metadata": {},
     "output_type": "execute_result"
    }
   ],
   "source": [
    "arr1.argmax() # return index of max value of an array"
   ]
  },
  {
   "cell_type": "code",
   "execution_count": 46,
   "id": "0d43a214-07a4-4d0d-bc6b-0d84d2852a57",
   "metadata": {},
   "outputs": [
    {
     "data": {
      "text/plain": [
       "0"
      ]
     },
     "execution_count": 46,
     "metadata": {},
     "output_type": "execute_result"
    }
   ],
   "source": [
    "arr1.argmin() # return index of min value of an array"
   ]
  },
  {
   "cell_type": "code",
   "execution_count": 47,
   "id": "4f44eb74-34cc-46be-8ac8-f98030b5533f",
   "metadata": {},
   "outputs": [
    {
     "data": {
      "text/plain": [
       "45"
      ]
     },
     "execution_count": 47,
     "metadata": {},
     "output_type": "execute_result"
    }
   ],
   "source": [
    "np.sum(arr1)"
   ]
  },
  {
   "cell_type": "code",
   "execution_count": 50,
   "id": "801a510f-7a5e-43b5-90d8-2731c35dba0e",
   "metadata": {},
   "outputs": [
    {
     "data": {
      "text/plain": [
       "array([12, 15, 18])"
      ]
     },
     "execution_count": 50,
     "metadata": {},
     "output_type": "execute_result"
    }
   ],
   "source": [
    "np.sum(arr1, axis = 0) # return sum of each column"
   ]
  },
  {
   "cell_type": "code",
   "execution_count": 51,
   "id": "64834b89-3218-4364-b8a1-e505b8f2441f",
   "metadata": {},
   "outputs": [
    {
     "data": {
      "text/plain": [
       "array([ 6, 15, 24])"
      ]
     },
     "execution_count": 51,
     "metadata": {},
     "output_type": "execute_result"
    }
   ],
   "source": [
    "np.sum(arr1, axis = 1) # return sum of each row"
   ]
  },
  {
   "cell_type": "code",
   "execution_count": 52,
   "id": "429a448c-7fba-4d2b-9699-e65484f11f52",
   "metadata": {},
   "outputs": [
    {
     "data": {
      "text/plain": [
       "5.0"
      ]
     },
     "execution_count": 52,
     "metadata": {},
     "output_type": "execute_result"
    }
   ],
   "source": [
    "\t\n",
    "np.mean(arr1)"
   ]
  },
  {
   "cell_type": "code",
   "execution_count": 53,
   "id": "22a8f311-e4a0-41cf-bf67-36b1bc1916d2",
   "metadata": {},
   "outputs": [
    {
     "data": {
      "text/plain": [
       "array([[1.        , 1.41421356, 1.73205081],\n",
       "       [2.        , 2.23606798, 2.44948974],\n",
       "       [2.64575131, 2.82842712, 3.        ]])"
      ]
     },
     "execution_count": 53,
     "metadata": {},
     "output_type": "execute_result"
    }
   ],
   "source": [
    "np.sqrt(arr1)"
   ]
  },
  {
   "cell_type": "markdown",
   "id": "79f34fa6-fbf3-49a3-b1ae-f56d2b19db48",
   "metadata": {},
   "source": [
    "**RANDOM METHOD**"
   ]
  },
  {
   "cell_type": "code",
   "execution_count": 54,
   "id": "dd5a526e-4f8d-46a1-9300-14dfd13c04b6",
   "metadata": {},
   "outputs": [],
   "source": [
    "import random # import random module"
   ]
  },
  {
   "cell_type": "code",
   "execution_count": 55,
   "id": "80d6551f-9679-48cf-8437-6b26124a5637",
   "metadata": {},
   "outputs": [
    {
     "name": "stdout",
     "output_type": "stream",
     "text": [
      "[0.45489504]\n",
      "[[0.76813614 0.96263015 0.29768733]\n",
      " [0.28811586 0.56212042 0.11783264]\n",
      " [0.55378073 0.03567141 0.3210079 ]]\n"
     ]
    }
   ],
   "source": [
    "#This function generates float value between 0.0 to 1.0 and returns ndarray if you will give shape.\n",
    "rd_num = np.random.random(1)\n",
    "rd_2D_array =  np.random.random((3,3))\n",
    "print(rd_num)\n",
    "print(rd_2D_array)"
   ]
  },
  {
   "cell_type": "code",
   "execution_count": 56,
   "id": "6a0462ee-198e-4b11-b2bb-74b32b7ed20b",
   "metadata": {},
   "outputs": [
    {
     "name": "stdout",
     "output_type": "stream",
     "text": [
      "1\n",
      "[[3 1 3 1]\n",
      " [1 1 3 3]\n",
      " [2 3 1 3]\n",
      " [3 1 3 2]]\n",
      "[[[2 3 3 2]\n",
      "  [3 2 3 2]\n",
      "  [1 2 2 2]\n",
      "  [1 2 3 2]]\n",
      "\n",
      " [[3 3 2 2]\n",
      "  [2 3 3 3]\n",
      "  [3 3 2 2]\n",
      "  [3 1 2 3]]]\n"
     ]
    }
   ],
   "source": [
    "#np.random.randint()\n",
    "#The random integer function generates single random integer number from given range and if the shape will give then return ndarray.\n",
    "rd_no = np.random.randint(1,4)\n",
    "rd_2D_arr = np.random.randint(1,4, (4,4))\n",
    "rd_3D_arr = np.random.randint(1,4, (2,4,4))\n",
    " \n",
    "print(rd_no)\n",
    "print(rd_2D_arr)\n",
    "print(rd_3D_arr)"
   ]
  },
  {
   "cell_type": "code",
   "execution_count": 57,
   "id": "4bbe0649-e70e-40db-8c90-40632cfbe3e1",
   "metadata": {},
   "outputs": [
    {
     "name": "stdout",
     "output_type": "stream",
     "text": [
      "[[[2 2 1 1]\n",
      "  [2 1 2 2]\n",
      "  [1 2 2 3]\n",
      "  [1 2 1 3]]\n",
      "\n",
      " [[1 3 1 1]\n",
      "  [1 3 1 3]\n",
      "  [3 2 1 1]\n",
      "  [3 2 3 2]]]\n"
     ]
    }
   ],
   "source": [
    "#np.random.seed()\n",
    "#The random module generates random number but next time you want to generate the same number then seed() will help.\n",
    "np.random.seed(10)\n",
    "rd_3D_arr = np.random.randint(1,4, (2,4,4))\n",
    "print(rd_3D_arr)"
   ]
  },
  {
   "cell_type": "code",
   "execution_count": 58,
   "id": "871b09b6-8872-4d8f-b7dd-20d5948d651a",
   "metadata": {},
   "outputs": [
    {
     "name": "stdout",
     "output_type": "stream",
     "text": [
      "[[0.13145815 0.41366737 0.77872881]\n",
      " [0.58390137 0.18263144 0.82608225]\n",
      " [0.10540183 0.28357668 0.06556327]]\n"
     ]
    }
   ],
   "source": [
    "#np.random.rand()\n",
    "#The rand() function work like random() but it accept shape and return ndarray which contain random values between 0.0 to 1.0.\n",
    "arr_2D = np.random.rand(3,3) # return  3 x 3 matrix\n",
    "print(arr_2D)"
   ]
  },
  {
   "cell_type": "code",
   "execution_count": 59,
   "id": "01e4795b-89c2-4869-8bb2-b757ac49b1f5",
   "metadata": {},
   "outputs": [
    {
     "name": "stdout",
     "output_type": "stream",
     "text": [
      "2\n"
     ]
    }
   ],
   "source": [
    "#np.random.choice()\n",
    "#If you have sequence values and want to get random single value then the random choice() function is the best choice.\n",
    "x = [1,2,3,4] # list\n",
    "choice_from_x = np.random.choice(x) # retun random single item from sequence\n",
    "print(choice_from_x )"
   ]
  },
  {
   "cell_type": "code",
   "execution_count": 61,
   "id": "a0f11802-d626-43d1-845f-5d6bfbdbd3c7",
   "metadata": {},
   "outputs": [
    {
     "name": "stdout",
     "output_type": "stream",
     "text": [
      "4\n",
      "1\n",
      "2\n",
      "1\n",
      "3\n",
      "1\n",
      "1\n",
      "1\n",
      "2\n",
      "1\n",
      "4\n",
      "1\n",
      "1\n",
      "3\n",
      "1\n",
      "3\n",
      "3\n",
      "1\n",
      "4\n",
      "2\n"
     ]
    }
   ],
   "source": [
    "for i in range(20):\n",
    "    print(np.random.choice(x)) #It change after one iteration"
   ]
  },
  {
   "cell_type": "code",
   "execution_count": null,
   "id": "bbe0935d-0212-40cb-b1d3-966ef956deaf",
   "metadata": {},
   "outputs": [],
   "source": []
  }
 ],
 "metadata": {
  "kernelspec": {
   "display_name": "Python 3 (ipykernel)",
   "language": "python",
   "name": "python3"
  },
  "language_info": {
   "codemirror_mode": {
    "name": "ipython",
    "version": 3
   },
   "file_extension": ".py",
   "mimetype": "text/x-python",
   "name": "python",
   "nbconvert_exporter": "python",
   "pygments_lexer": "ipython3",
   "version": "3.12.1"
  }
 },
 "nbformat": 4,
 "nbformat_minor": 5
}
