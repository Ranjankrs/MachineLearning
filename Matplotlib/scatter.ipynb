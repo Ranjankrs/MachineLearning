{
 "cells": [
  {
   "cell_type": "code",
   "execution_count": 1,
   "id": "19156f3a-dc69-4988-bbf8-c642b02127d1",
   "metadata": {},
   "outputs": [],
   "source": [
    "import matplotlib.pyplot as plt # For visualization\n",
    "import pandas as pd # for data cleaing & analysis"
   ]
  },
  {
   "cell_type": "code",
   "execution_count": null,
   "id": "701c2e84-a745-470e-86a0-f250e8694b05",
   "metadata": {},
   "outputs": [],
   "source": [
    "# Dataset taken from kaggel.com\n",
    "df_google_play_store_apps = pd.read_csv(\"D:\\\\Private\\Indina AI Production\\Kaggel Dataset\\google-play-store-apps\\googleplaystore.csv\")\n",
    "df_google_play_store_apps.shape # Get shape of dataset in rows and colms"
   ]
  },
  {
   "cell_type": "code",
   "execution_count": null,
   "id": "c97c4b44-93d3-44d7-a7c7-dcc94d1a0d39",
   "metadata": {},
   "outputs": [],
   "source": [
    "df_google_play_store_apps = pd.read_csv(\"D:\\\\Private\\Indina AI Production\\Kaggel Dataset\\google-play-store-apps\\googleplaystore.csv\", \n",
    "                                        nrows = 1000)\n",
    "df_google_play_store_apps.shape ## Get shape of dataset in rows and colms"
   ]
  },
  {
   "cell_type": "code",
   "execution_count": null,
   "id": "a7331ea2-0646-426b-ab8e-00818538c7ac",
   "metadata": {},
   "outputs": [],
   "source": [
    "x = df_google_play_store_apps[\"Rating\"]\n",
    "y = df_google_play_store_apps[\"Reviews\"]"
   ]
  },
  {
   "cell_type": "code",
   "execution_count": null,
   "id": "4101578f-40ae-4951-9c49-e819d379ee48",
   "metadata": {},
   "outputs": [],
   "source": [
    "plt.scatter(x,y) # Draw scatter plot with parameter x and y\n",
    "plt.show()"
   ]
  },
  {
   "cell_type": "code",
   "execution_count": null,
   "id": "87b0d793-d51e-44ca-8a7d-7ca151552916",
   "metadata": {},
   "outputs": [],
   "source": [
    "plt.scatter(x,y)\n",
    "plt.title(\"Google Play Store Apps Scatter plot\")\n",
    "plt.xlabel(\"Rating\")\n",
    "plt.ylabel(\"Reviews\")\n",
    "plt.show()"
   ]
  },
  {
   "cell_type": "code",
   "execution_count": null,
   "id": "cf48d23f-5348-4b79-8908-09b894db7e45",
   "metadata": {},
   "outputs": [],
   "source": [
    "plt.figure(figsize = (16,9)) # figure size ratio 16:9\n",
    "plt.scatter(x,y, c = \"r\", marker = \"*\", s = 100, alpha=0.5, linewidths=10,\n",
    "           edgecolors=\"g\" )#verts=\"<\"\n",
    "plt.title(\"Google Play Store Apps Scatter plot\")\n",
    "plt.xlabel(\"Rating\")\n",
    "plt.ylabel(\"Reviews\")\n",
    "plt.show()"
   ]
  }
 ],
 "metadata": {
  "kernelspec": {
   "display_name": "Python 3 (ipykernel)",
   "language": "python",
   "name": "python3"
  },
  "language_info": {
   "codemirror_mode": {
    "name": "ipython",
    "version": 3
   },
   "file_extension": ".py",
   "mimetype": "text/x-python",
   "name": "python",
   "nbconvert_exporter": "python",
   "pygments_lexer": "ipython3",
   "version": "3.12.1"
  }
 },
 "nbformat": 4,
 "nbformat_minor": 5
}
